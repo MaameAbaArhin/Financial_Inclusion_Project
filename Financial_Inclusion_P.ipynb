{
 "cells": [
  {
   "cell_type": "markdown",
   "id": "151473a2",
   "metadata": {},
   "source": [
    "# Financial Inclusion in Africa"
   ]
  },
  {
   "cell_type": "markdown",
   "id": "bdd3b63e",
   "metadata": {},
   "source": [
    "##### This project predicts the likelihood of a person having a bank account or not (Yes = 1, No = 0), for each unique id in the test dataset.\n",
    "##### The model was trained  on 70% of the data and tested on the final 30% of the data, across four East African countries - Kenya, Rwanda, Tanzania, and Uganda.\n",
    "\n",
    "##### This project involves:\n",
    "##### 1. Importing the libaries needed and loading the data.\n",
    "##### 2. Performing Explorative Data Analysis.\n",
    "##### 3. Data Preprocessing and Data Wrangling.\n",
    "##### 4. Creating a Model for the Prediction"
   ]
  },
  {
   "cell_type": "markdown",
   "id": "08a4cadc",
   "metadata": {},
   "source": [
    "# 1. Importing Libraries"
   ]
  },
  {
   "cell_type": "code",
   "execution_count": 1,
   "id": "05cb8d1a",
   "metadata": {},
   "outputs": [],
   "source": [
    "# Importing necessary libraries for data handling, and visualization.\n",
    "import pandas as pd\n",
    "import numpy as np\n",
    "import seaborn as sns\n",
    "import matplotlib.pyplot as plt\n",
    "\n",
    "# Importing libraries for machine learning \n",
    "#from lightgbm import LGBMClassifier\n",
    "#from sklearn.model_selection import train_test_split\n",
    "#from sklearn.metrics import accuracy_score\n",
    "\n",
    "# Suppress warnings for better readability.\n",
    "#import warnings\n",
    "#warnings.filterwarnings('ignore')\n",
    "\n",
    "\n",
    "#print(\"Libraries imported sucessfully.\")"
   ]
  },
  {
   "cell_type": "markdown",
   "id": "9437b62a",
   "metadata": {},
   "source": [
    "#  Loading the Dataset"
   ]
  },
  {
   "cell_type": "code",
   "execution_count": 2,
   "id": "f85e9954",
   "metadata": {},
   "outputs": [],
   "source": [
    "# Load Datasets\n",
    "train = pd.read_csv(r\"C:\\Users\\LORDINA\\Downloads\\Train.csv\")\n",
    "test = pd.read_csv(r\"C:\\Users\\LORDINA\\Downloads\\Test.csv\")\n",
    "ss = pd.read_csv(r\"C:\\Users\\LORDINA\\Downloads\\SampleSubmission.csv\")\n",
    "variables = pd.read_csv(r\"C:\\Users\\LORDINA\\Downloads\\VariableDefinitions.csv\")\n",
    "\n"
   ]
  },
  {
   "cell_type": "markdown",
   "id": "9db17201",
   "metadata": {},
   "source": [
    "# 2. Performing Explorative Data Analysis"
   ]
  },
  {
   "cell_type": "code",
   "execution_count": 3,
   "id": "bf2d7a1c",
   "metadata": {},
   "outputs": [
    {
     "name": "stdout",
     "output_type": "stream",
     "text": [
      "Training Data Preview:\n"
     ]
    },
    {
     "data": {
      "text/html": [
       "<div>\n",
       "<style scoped>\n",
       "    .dataframe tbody tr th:only-of-type {\n",
       "        vertical-align: middle;\n",
       "    }\n",
       "\n",
       "    .dataframe tbody tr th {\n",
       "        vertical-align: top;\n",
       "    }\n",
       "\n",
       "    .dataframe thead th {\n",
       "        text-align: right;\n",
       "    }\n",
       "</style>\n",
       "<table border=\"1\" class=\"dataframe\">\n",
       "  <thead>\n",
       "    <tr style=\"text-align: right;\">\n",
       "      <th></th>\n",
       "      <th>country</th>\n",
       "      <th>year</th>\n",
       "      <th>uniqueid</th>\n",
       "      <th>bank_account</th>\n",
       "      <th>location_type</th>\n",
       "      <th>cellphone_access</th>\n",
       "      <th>household_size</th>\n",
       "      <th>age_of_respondent</th>\n",
       "      <th>gender_of_respondent</th>\n",
       "      <th>relationship_with_head</th>\n",
       "      <th>marital_status</th>\n",
       "      <th>education_level</th>\n",
       "      <th>job_type</th>\n",
       "    </tr>\n",
       "  </thead>\n",
       "  <tbody>\n",
       "    <tr>\n",
       "      <th>0</th>\n",
       "      <td>Kenya</td>\n",
       "      <td>2018</td>\n",
       "      <td>uniqueid_1</td>\n",
       "      <td>Yes</td>\n",
       "      <td>Rural</td>\n",
       "      <td>Yes</td>\n",
       "      <td>3</td>\n",
       "      <td>24</td>\n",
       "      <td>Female</td>\n",
       "      <td>Spouse</td>\n",
       "      <td>Married/Living together</td>\n",
       "      <td>Secondary education</td>\n",
       "      <td>Self employed</td>\n",
       "    </tr>\n",
       "    <tr>\n",
       "      <th>1</th>\n",
       "      <td>Kenya</td>\n",
       "      <td>2018</td>\n",
       "      <td>uniqueid_2</td>\n",
       "      <td>No</td>\n",
       "      <td>Rural</td>\n",
       "      <td>No</td>\n",
       "      <td>5</td>\n",
       "      <td>70</td>\n",
       "      <td>Female</td>\n",
       "      <td>Head of Household</td>\n",
       "      <td>Widowed</td>\n",
       "      <td>No formal education</td>\n",
       "      <td>Government Dependent</td>\n",
       "    </tr>\n",
       "    <tr>\n",
       "      <th>2</th>\n",
       "      <td>Kenya</td>\n",
       "      <td>2018</td>\n",
       "      <td>uniqueid_3</td>\n",
       "      <td>Yes</td>\n",
       "      <td>Urban</td>\n",
       "      <td>Yes</td>\n",
       "      <td>5</td>\n",
       "      <td>26</td>\n",
       "      <td>Male</td>\n",
       "      <td>Other relative</td>\n",
       "      <td>Single/Never Married</td>\n",
       "      <td>Vocational/Specialised training</td>\n",
       "      <td>Self employed</td>\n",
       "    </tr>\n",
       "    <tr>\n",
       "      <th>3</th>\n",
       "      <td>Kenya</td>\n",
       "      <td>2018</td>\n",
       "      <td>uniqueid_4</td>\n",
       "      <td>No</td>\n",
       "      <td>Rural</td>\n",
       "      <td>Yes</td>\n",
       "      <td>5</td>\n",
       "      <td>34</td>\n",
       "      <td>Female</td>\n",
       "      <td>Head of Household</td>\n",
       "      <td>Married/Living together</td>\n",
       "      <td>Primary education</td>\n",
       "      <td>Formally employed Private</td>\n",
       "    </tr>\n",
       "    <tr>\n",
       "      <th>4</th>\n",
       "      <td>Kenya</td>\n",
       "      <td>2018</td>\n",
       "      <td>uniqueid_5</td>\n",
       "      <td>No</td>\n",
       "      <td>Urban</td>\n",
       "      <td>No</td>\n",
       "      <td>8</td>\n",
       "      <td>26</td>\n",
       "      <td>Male</td>\n",
       "      <td>Child</td>\n",
       "      <td>Single/Never Married</td>\n",
       "      <td>Primary education</td>\n",
       "      <td>Informally employed</td>\n",
       "    </tr>\n",
       "  </tbody>\n",
       "</table>\n",
       "</div>"
      ],
      "text/plain": [
       "  country  year    uniqueid bank_account location_type cellphone_access  \\\n",
       "0   Kenya  2018  uniqueid_1          Yes         Rural              Yes   \n",
       "1   Kenya  2018  uniqueid_2           No         Rural               No   \n",
       "2   Kenya  2018  uniqueid_3          Yes         Urban              Yes   \n",
       "3   Kenya  2018  uniqueid_4           No         Rural              Yes   \n",
       "4   Kenya  2018  uniqueid_5           No         Urban               No   \n",
       "\n",
       "   household_size  age_of_respondent gender_of_respondent  \\\n",
       "0               3                 24               Female   \n",
       "1               5                 70               Female   \n",
       "2               5                 26                 Male   \n",
       "3               5                 34               Female   \n",
       "4               8                 26                 Male   \n",
       "\n",
       "  relationship_with_head           marital_status  \\\n",
       "0                 Spouse  Married/Living together   \n",
       "1      Head of Household                  Widowed   \n",
       "2         Other relative     Single/Never Married   \n",
       "3      Head of Household  Married/Living together   \n",
       "4                  Child     Single/Never Married   \n",
       "\n",
       "                   education_level                   job_type  \n",
       "0              Secondary education              Self employed  \n",
       "1              No formal education       Government Dependent  \n",
       "2  Vocational/Specialised training              Self employed  \n",
       "3                Primary education  Formally employed Private  \n",
       "4                Primary education        Informally employed  "
      ]
     },
     "metadata": {},
     "output_type": "display_data"
    },
    {
     "name": "stdout",
     "output_type": "stream",
     "text": [
      "Variables Definition Preview: \n"
     ]
    },
    {
     "data": {
      "text/html": [
       "<div>\n",
       "<style scoped>\n",
       "    .dataframe tbody tr th:only-of-type {\n",
       "        vertical-align: middle;\n",
       "    }\n",
       "\n",
       "    .dataframe tbody tr th {\n",
       "        vertical-align: top;\n",
       "    }\n",
       "\n",
       "    .dataframe thead th {\n",
       "        text-align: right;\n",
       "    }\n",
       "</style>\n",
       "<table border=\"1\" class=\"dataframe\">\n",
       "  <thead>\n",
       "    <tr style=\"text-align: right;\">\n",
       "      <th></th>\n",
       "      <th>Variable Definitions</th>\n",
       "      <th>Unnamed: 1</th>\n",
       "    </tr>\n",
       "  </thead>\n",
       "  <tbody>\n",
       "    <tr>\n",
       "      <th>0</th>\n",
       "      <td>country</td>\n",
       "      <td>Country interviewee is in.</td>\n",
       "    </tr>\n",
       "    <tr>\n",
       "      <th>1</th>\n",
       "      <td>year</td>\n",
       "      <td>Year survey was done in.</td>\n",
       "    </tr>\n",
       "    <tr>\n",
       "      <th>2</th>\n",
       "      <td>uniqueid</td>\n",
       "      <td>Unique identifier for each interviewee</td>\n",
       "    </tr>\n",
       "    <tr>\n",
       "      <th>3</th>\n",
       "      <td>location_type</td>\n",
       "      <td>Type of location: Rural, Urban</td>\n",
       "    </tr>\n",
       "    <tr>\n",
       "      <th>4</th>\n",
       "      <td>cellphone_access</td>\n",
       "      <td>If interviewee has access to a cellphone: Yes, No</td>\n",
       "    </tr>\n",
       "  </tbody>\n",
       "</table>\n",
       "</div>"
      ],
      "text/plain": [
       "  Variable Definitions                                         Unnamed: 1\n",
       "0              country                         Country interviewee is in.\n",
       "1                 year                           Year survey was done in.\n",
       "2             uniqueid             Unique identifier for each interviewee\n",
       "3        location_type                     Type of location: Rural, Urban\n",
       "4     cellphone_access  If interviewee has access to a cellphone: Yes, No"
      ]
     },
     "metadata": {},
     "output_type": "display_data"
    }
   ],
   "source": [
    "# Display first few rows to understand structure.\n",
    "print(\"Training Data Preview:\")\n",
    "display(train.head(5))\n",
    "\n",
    "print(\"Variables Definition Preview: \")\n",
    "display(variables.head(5))"
   ]
  },
  {
   "cell_type": "code",
   "execution_count": 4,
   "id": "74f7ea43",
   "metadata": {},
   "outputs": [
    {
     "data": {
      "text/plain": [
       "Index(['country', 'year', 'uniqueid', 'bank_account', 'location_type',\n",
       "       'cellphone_access', 'household_size', 'age_of_respondent',\n",
       "       'gender_of_respondent', 'relationship_with_head', 'marital_status',\n",
       "       'education_level', 'job_type'],\n",
       "      dtype='object')"
      ]
     },
     "execution_count": 4,
     "metadata": {},
     "output_type": "execute_result"
    }
   ],
   "source": [
    "train.columns"
   ]
  },
  {
   "cell_type": "code",
   "execution_count": null,
   "id": "867aa7df",
   "metadata": {},
   "outputs": [],
   "source": [
    "# Checking Dataset Shapes\n",
    "print(f\"Train dataset: {train.shape[0]} rows, {train.shape[1]} columns\")\n",
    "print(f\"Test dataset: {test.shape[0]} rows, {test.shape[1]} columns\")"
   ]
  },
  {
   "cell_type": "markdown",
   "id": "94ea1c9f",
   "metadata": {},
   "source": [
    "##### The above output shows the number of rows and columns for train and test dataset. We have 13 variables in the train dataset, 12 independent variables and 1 dependent variable. In the test dataset, we have 12 independent variables.\n"
   ]
  },
  {
   "cell_type": "code",
   "execution_count": null,
   "id": "32d56fe2",
   "metadata": {},
   "outputs": [],
   "source": [
    "# Checking for missing values.\n",
    "print(\"missing values:\", train.isnull().sum())"
   ]
  },
  {
   "cell_type": "markdown",
   "id": "5d85f720",
   "metadata": {},
   "source": [
    "##### We do not have any missing values in our dataset."
   ]
  },
  {
   "cell_type": "code",
   "execution_count": null,
   "id": "95049739",
   "metadata": {},
   "outputs": [],
   "source": [
    "# Showing some information about our dataset.\n",
    "print(train.info())"
   ]
  },
  {
   "cell_type": "markdown",
   "id": "9c38531f",
   "metadata": {},
   "source": [
    "##### The output shows the list of variables/features, sizes, if it contains missing values and data type for each variable. From the dataset, we don't have any missing values and we have 3 features of integer data type and 10 features of the object data type."
   ]
  },
  {
   "cell_type": "markdown",
   "id": "c81cc87c",
   "metadata": {},
   "source": [
    "### Univariate Analysis\n",
    "### Here we are analyzing data by examining each variable individually."
   ]
  },
  {
   "cell_type": "code",
   "execution_count": null,
   "id": "77a34748",
   "metadata": {},
   "outputs": [],
   "source": [
    "# Exploring Target Distribution\n",
    "sns.catplot(x=\"bank_account\", hue=\"bank_account\", kind=\"count\", data=train)"
   ]
  },
  {
   "cell_type": "markdown",
   "id": "1c7b14f6",
   "metadata": {},
   "source": [
    "##### The data shows that we have a higher number of no class than yes class in our target variable showing a majority of people don't have bank accounts."
   ]
  },
  {
   "cell_type": "code",
   "execution_count": null,
   "id": "5c6a7c92",
   "metadata": {},
   "outputs": [],
   "source": [
    "# Exploring Country Distribution\n",
    "sns.catplot(x=\"country\", hue=\"country\", kind=\"count\", data=train, palette=\"tab10\")\n"
   ]
  },
  {
   "cell_type": "markdown",
   "id": "5236bfc1",
   "metadata": {},
   "source": [
    "#### The country feature in the above graph shows that most of the data were collected in Rwanda and lesser data were collected in Uganda."
   ]
  },
  {
   "cell_type": "code",
   "execution_count": null,
   "id": "2cc4ff17",
   "metadata": {},
   "outputs": [],
   "source": [
    "num_cols = ['household_size', 'age_of_respondent']\n",
    "train[num_cols].hist(bins=25, figsize=(12,6)); plt.tight_layout()"
   ]
  },
  {
   "cell_type": "markdown",
   "id": "a759e12f",
   "metadata": {},
   "source": [
    "#### Household_size is not normally distributed and the most common number of people living in a house is 2.\n",
    "#### In our last variable called age_of_respondent, most of the respondent’s age is between 25 and 35."
   ]
  },
  {
   "cell_type": "markdown",
   "id": "9b217249",
   "metadata": {},
   "source": [
    "## Bivariate Analysis\n",
    "\n",
    "#### Here we are exploring the relationship between our target variable and the independent variables and assess the relationship between them."
   ]
  },
  {
   "cell_type": "code",
   "execution_count": null,
   "id": "4a784042",
   "metadata": {},
   "outputs": [],
   "source": [
    "# Exploring location type with bank account.\n",
    "\n",
    "plt.figure(figsize=(16, 6))\n",
    "sns.countplot(x='location_type', hue= 'bank_account', data=train)\n",
    "plt.xticks(\n",
    "    fontweight='light',\n",
    "    fontsize='x-large'  \n",
    ")"
   ]
  },
  {
   "cell_type": "markdown",
   "id": "9e1a6b6c",
   "metadata": {},
   "source": [
    "##### From the above plot, you can realize that the majority of people living in rural areas don't have bank accounts. "
   ]
  },
  {
   "cell_type": "code",
   "execution_count": null,
   "id": "f1e5733e",
   "metadata": {},
   "outputs": [],
   "source": [
    "#Exploring gender_of_respondent with bank account \n",
    "plt.figure(figsize=(16, 6))\n",
    "sns.countplot(x='gender_of_respondent', hue= 'bank_account', data=train)\n",
    "plt.xticks(\n",
    "    fontweight='light',\n",
    "    fontsize='x-large'  \n",
    ")"
   ]
  },
  {
   "cell_type": "markdown",
   "id": "dc9e31dc",
   "metadata": {},
   "source": [
    "#### In the above plot, the plot shows there is a small difference between males and females who have bank accounts, however the number of males with bank accounts are greater than females."
   ]
  },
  {
   "cell_type": "code",
   "execution_count": null,
   "id": "135e3330",
   "metadata": {},
   "outputs": [],
   "source": [
    "# Exploring cellphone_access with bank account.\n",
    "plt.figure(figsize=(16, 6))\n",
    "sns.countplot(x='cellphone_access', hue= 'bank_account', data=train)\n",
    "plt.xticks(\n",
    "    fontweight='light',\n",
    "    fontsize='x-large'  \n",
    ")"
   ]
  },
  {
   "cell_type": "markdown",
   "id": "071d69e1",
   "metadata": {},
   "source": [
    "#### The above plot shows the majority of people who have cellphone access, don't have bank accounts. "
   ]
  },
  {
   "cell_type": "code",
   "execution_count": null,
   "id": "282d6a8b",
   "metadata": {},
   "outputs": [],
   "source": [
    "# Exploring education_level with bank account \n",
    "plt.figure(figsize=(16, 6))\n",
    "sns.countplot(x='education_level', hue= 'bank_account', data=train)\n",
    "plt.xticks(\n",
    "    rotation=45, \n",
    "    horizontalalignment='right',\n",
    "    fontweight='light',\n",
    "    fontsize='x-large'  \n",
    ")"
   ]
  },
  {
   "cell_type": "markdown",
   "id": "49e7431b",
   "metadata": {},
   "source": [
    "#### The education_level plot shows that the majority of people have primary education and most of them don't have bank accounts."
   ]
  },
  {
   "cell_type": "code",
   "execution_count": null,
   "id": "3d4eea91",
   "metadata": {},
   "outputs": [],
   "source": [
    "# Exploring job_type with bank account \n",
    "plt.figure(figsize=(16, 6))\n",
    "sns.countplot(x='job_type', hue= 'bank_account', data=train)\n",
    "plt.xticks(\n",
    "    rotation=45, \n",
    "    horizontalalignment='right',\n",
    "    fontweight='light',\n",
    "    fontsize='x-large'  \n",
    ")"
   ]
  },
  {
   "cell_type": "markdown",
   "id": "c7e81e72",
   "metadata": {},
   "source": [
    "#### The job_type plot shows that the majority of people who are self-employed don't have access to the bank accounts, followed by informally employed and farming and fishing."
   ]
  }
 ],
 "metadata": {
  "kernelspec": {
   "display_name": "lor.jupy",
   "language": "python",
   "name": "python3"
  },
  "language_info": {
   "codemirror_mode": {
    "name": "ipython",
    "version": 3
   },
   "file_extension": ".py",
   "mimetype": "text/x-python",
   "name": "python",
   "nbconvert_exporter": "python",
   "pygments_lexer": "ipython3",
   "version": "3.12.8"
  }
 },
 "nbformat": 4,
 "nbformat_minor": 5
}
