{
 "cells": [
  {
   "cell_type": "markdown",
   "id": "151473a2",
   "metadata": {},
   "source": [
    "# Financial Inclusion in Africa"
   ]
  },
  {
   "cell_type": "markdown",
   "id": "bdd3b63e",
   "metadata": {},
   "source": [
    "##### This project predicts the likelihood of a person having a bank account or not (Yes = 1, No = 0), for each unique id in the test dataset.\n",
    "##### The model was trained  on 70% of the data and tested on the final 30% of the data, across four East African countries - Kenya, Rwanda, Tanzania, and Uganda.\n",
    "\n",
    "##### This project involves:\n",
    "##### 1. Importing the libaries needed and loading the data.\n",
    "##### 2. Performing Explorative Data Analysis.\n",
    "##### 3. Data Preprocessing and Data Wrangling.\n",
    "##### 4. Creating a Model for the Prediction"
   ]
  },
  {
   "cell_type": "markdown",
   "id": "08a4cadc",
   "metadata": {},
   "source": [
    "# 1. Importing Libraries"
   ]
  },
  {
   "cell_type": "code",
   "execution_count": 3,
   "id": "05cb8d1a",
   "metadata": {},
   "outputs": [
    {
     "name": "stdout",
     "output_type": "stream",
     "text": [
      "Libraries imported sucessfully.\n"
     ]
    }
   ],
   "source": [
    "# Importing necessary libraries for data handling, and visualization.\n",
    "import pandas as pd\n",
    "import numpy as np\n",
    "import seaborn as sns\n",
    "import matplotlib.pyplot as plt\n",
    "\n",
    "# Importing libraries for machine learning \n",
    "from lightgbm import LGBMClassifier\n",
    "from sklearn.model_selection import train_test_split\n",
    "from sklearn.metrics import accuracy_score\n",
    "\n",
    "# Suppress warnings for better readability.\n",
    "import warnings\n",
    "warnings.filterwarnings('ignore')\n",
    "\n",
    "\n",
    "print(\"Libraries imported sucessfully.\")"
   ]
  },
  {
   "cell_type": "markdown",
   "id": "9437b62a",
   "metadata": {},
   "source": [
    "#  Loading the Dataset"
   ]
  },
  {
   "cell_type": "code",
   "execution_count": 4,
   "id": "f85e9954",
   "metadata": {},
   "outputs": [],
   "source": [
    "# Load Datasets\n",
    "train = pd.read_csv(r\"C:\\Users\\BLESSING\\Desktop\\Machine_Learning\\Financial_Inclusion_Project\\Financial.csv\\Train csv.csv\")\n",
    "test = pd.read_csv(r\"C:\\Users\\BLESSING\\Desktop\\Machine_Learning\\Financial_Inclusion_Project\\Financial.csv\\Test csv.csv\")\n",
    "ss = pd.read_csv(r\"C:\\Users\\BLESSING\\Desktop\\Machine_Learning\\Financial_Inclusion_Project\\Financial.csv\\Sample Submission csv.csv\")\n",
    "variables = pd.read_csv(r\"C:\\Users\\BLESSING\\Desktop\\Machine_Learning\\Financial_Inclusion_Project\\Financial.csv\\Variable csv.csv\")\n",
    "\n"
   ]
  }
 ],
 "metadata": {
  "kernelspec": {
   "display_name": "Python 3",
   "language": "python",
   "name": "python3"
  },
  "language_info": {
   "codemirror_mode": {
    "name": "ipython",
    "version": 3
   },
   "file_extension": ".py",
   "mimetype": "text/x-python",
   "name": "python",
   "nbconvert_exporter": "python",
   "pygments_lexer": "ipython3",
   "version": "3.12.8"
  }
 },
 "nbformat": 4,
 "nbformat_minor": 5
}
